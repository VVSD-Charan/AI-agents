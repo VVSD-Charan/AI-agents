{
 "cells": [
  {
   "cell_type": "code",
   "execution_count": 1,
   "id": "18bb467f-948c-4813-a042-229df1e90665",
   "metadata": {},
   "outputs": [],
   "source": [
    "from langgraph.graph import START,StateGraph,END\n",
    "from IPython.display import Image,display"
   ]
  },
  {
   "cell_type": "code",
   "execution_count": 2,
   "id": "1ecace6f-d657-48fb-802e-89338d533387",
   "metadata": {},
   "outputs": [],
   "source": [
    "def add(state,config):\n",
    "    print(state)\n",
    "    return {\"x\" : state[\"x\"] + 1}"
   ]
  },
  {
   "cell_type": "code",
   "execution_count": 3,
   "id": "76ddabb9-6cff-4379-9018-dfb2ff2b7486",
   "metadata": {},
   "outputs": [],
   "source": [
    "def multiply(state,config):\n",
    "    print(state)\n",
    "    return {\"x\" : state[\"x\"] * 2}"
   ]
  },
  {
   "cell_type": "code",
   "execution_count": 4,
   "id": "e1f60e0a-c081-4d92-83b1-0d300da8e251",
   "metadata": {},
   "outputs": [
    {
     "data": {
      "text/plain": [
       "<langgraph.graph.state.StateGraph at 0x2784bab80b0>"
      ]
     },
     "execution_count": 4,
     "metadata": {},
     "output_type": "execute_result"
    }
   ],
   "source": [
    "builder = StateGraph(dict)\n",
    "\n",
    "builder.add_node(\"add\",add)\n",
    "builder.add_node(\"multiply\",multiply)"
   ]
  },
  {
   "cell_type": "code",
   "execution_count": 5,
   "id": "ea0a58d3-e52e-4930-a9bc-a09043d0de74",
   "metadata": {},
   "outputs": [
    {
     "data": {
      "text/plain": [
       "<langgraph.graph.state.StateGraph at 0x2784bab80b0>"
      ]
     },
     "execution_count": 5,
     "metadata": {},
     "output_type": "execute_result"
    }
   ],
   "source": [
    "builder.set_entry_point(\"add\")\n",
    "\n",
    "builder.add_edge(\"add\",\"multiply\")\n",
    "builder.add_edge(\"multiply\",END)"
   ]
  },
  {
   "cell_type": "code",
   "execution_count": 6,
   "id": "684c81b5-b97a-42c2-909b-4eef1a279441",
   "metadata": {},
   "outputs": [],
   "source": [
    "graph = builder.compile()"
   ]
  },
  {
   "cell_type": "code",
   "execution_count": 7,
   "id": "78067715-5545-4365-96f9-6788aa9d1d78",
   "metadata": {},
   "outputs": [
    {
     "data": {
      "image/jpeg": "[encoded data removed]",
      "text/plain": [
       "<IPython.core.display.Image object>"
      ]
     },
     "metadata": {},
     "output_type": "display_data"
    }
   ],
   "source": [
    " try:\n",
    "     display(Image(graph.get_graph().draw_mermaid_png()))\n",
    " except Exception:\n",
    "     pass"
   ]
  },
  {
   "cell_type": "code",
   "execution_count": 8,
   "id": "7c9a76f0-3502-4913-a842-82b94f26dead",
   "metadata": {},
   "outputs": [
    {
     "name": "stdout",
     "output_type": "stream",
     "text": [
      "{'x': 1}\n",
      "{'x': 2}\n"
     ]
    },
    {
     "data": {
      "text/plain": [
       "{'x': 4}"
      ]
     },
     "execution_count": 8,
     "metadata": {},
     "output_type": "execute_result"
    }
   ],
   "source": [
    "initial_state = {\"x\" : 1}\n",
    "\n",
    "graph.invoke(initial_state)"
   ]
  }
 ],
 "metadata": {
  "kernelspec": {
   "display_name": "Python 3 (ipykernel)",
   "language": "python",
   "name": "python3"
  },
  "language_info": {
   "codemirror_mode": {
    "name": "ipython",
    "version": 3
   },
   "file_extension": ".py",
   "mimetype": "text/x-python",
   "name": "python",
   "nbconvert_exporter": "python",
   "pygments_lexer": "ipython3",
   "version": "3.12.2"
  }
 },
 "nbformat": 4,
 "nbformat_minor": 5
}
