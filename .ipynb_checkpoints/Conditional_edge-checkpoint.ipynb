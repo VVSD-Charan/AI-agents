{
 "cells": [
  {
   "cell_type": "code",
   "execution_count": 1,
   "id": "ac7b7f68-9a67-4401-9634-f95a4e1bd2fa",
   "metadata": {},
   "outputs": [],
   "source": [
    "import operator\n",
    "from typing import TypedDict,Annotated,List\n",
    "from langgraph.graph import StateGraph,START,END\n",
    "from IPython.display import display,Image"
   ]
  },
  {
   "cell_type": "code",
   "execution_count": 2,
   "id": "fd2cef91-337a-4234-820a-21a0609b4f8b",
   "metadata": {},
   "outputs": [],
   "source": [
    "class State(TypedDict):\n",
    "    messages : Annotated[List[str],operator.add]"
   ]
  },
  {
   "cell_type": "code",
   "execution_count": 3,
   "id": "1a5e9296-6efb-47d1-9941-cd9119cf2a1e",
   "metadata": {},
   "outputs": [],
   "source": [
    "def add(state,config):\n",
    "    print(state)\n",
    "    msg = state[\"messages\"][-1]\n",
    "    response = {\"x\" : msg[\"x\"] + 1}\n",
    "    return {\"messages\" : [response]}"
   ]
  },
  {
   "cell_type": "code",
   "execution_count": 4,
   "id": "74ea5245-64a1-4f74-82ea-2d0783bbf2b4",
   "metadata": {},
   "outputs": [],
   "source": [
    "def multiply(state,config):\n",
    "    print(state)\n",
    "    msg = state[\"messages\"][-1]\n",
    "    response = {\"x\" : msg[\"x\"] * 2}\n",
    "    return {\"messages\" : [response]}"
   ]
  },
  {
   "cell_type": "code",
   "execution_count": 5,
   "id": "1ed7f85e-ecb0-4062-b085-7ee751210c7f",
   "metadata": {},
   "outputs": [],
   "source": [
    "def decision(state):\n",
    "    msg = state[\"messages\"][-1]\n",
    "    if msg[\"x\"] >= 10:\n",
    "        return \"end\"\n",
    "    else:\n",
    "        return \"continue\""
   ]
  },
  {
   "cell_type": "code",
   "execution_count": 6,
   "id": "bfd2b63c-fda4-4c0f-bda6-7841a31004da",
   "metadata": {},
   "outputs": [],
   "source": [
    "builder = StateGraph(State)"
   ]
  },
  {
   "cell_type": "code",
   "execution_count": 7,
   "id": "c6698ab8-90d2-438f-a773-53e9f1a12efb",
   "metadata": {},
   "outputs": [
    {
     "data": {
      "text/plain": [
       "<langgraph.graph.state.StateGraph at 0x20e4deccfb0>"
      ]
     },
     "execution_count": 7,
     "metadata": {},
     "output_type": "execute_result"
    }
   ],
   "source": [
    "builder.add_node(\"add\",add)\n",
    "builder.add_node(\"multiply\",multiply)"
   ]
  },
  {
   "cell_type": "code",
   "execution_count": 8,
   "id": "f177e8ff-48fb-4760-b949-023b080f0e19",
   "metadata": {},
   "outputs": [
    {
     "data": {
      "text/plain": [
       "<langgraph.graph.state.StateGraph at 0x20e4deccfb0>"
      ]
     },
     "execution_count": 8,
     "metadata": {},
     "output_type": "execute_result"
    }
   ],
   "source": [
    "builder.set_entry_point(\"add\")\n",
    "\n",
    "builder.add_conditional_edges(\n",
    "    \"add\",decision, {\n",
    "        \"end\" : END,\n",
    "        \"continue\" : \"multiply\"\n",
    "    }\n",
    ")\n",
    "\n",
    "builder.add_conditional_edges(\n",
    "    \"multiply\",decision,{\n",
    "        \"end\" : END,\n",
    "        \"continue\" : \"add\"\n",
    "    }\n",
    ")"
   ]
  },
  {
   "cell_type": "code",
   "execution_count": 9,
   "id": "0dfdf798-67e9-4bcb-883b-46688ace9cb3",
   "metadata": {},
   "outputs": [],
   "source": [
    "graph = builder.compile()"
   ]
  },
  {
   "cell_type": "code",
   "execution_count": 10,
   "id": "74e930da-889f-4e03-88f3-4c30eb68da29",
   "metadata": {},
   "outputs": [
    {
     "data": {
      "image/jpeg": "[encoded data removed]",
      "text/plain": [
       "<IPython.core.display.Image object>"
      ]
     },
     "metadata": {},
     "output_type": "display_data"
    }
   ],
   "source": [
    " try:\n",
    "     display(Image(graph.get_graph().draw_mermaid_png()))\n",
    " except Exception:\n",
    "     pass"
   ]
  },
  {
   "cell_type": "code",
   "execution_count": 11,
   "id": "bd584e1c-be90-4400-9db9-eb916b503ffd",
   "metadata": {},
   "outputs": [
    {
     "name": "stdout",
     "output_type": "stream",
     "text": [
      "{'messages': [{'x': 1}]}\n",
      "{'messages': [{'x': 1}, {'x': 2}]}\n",
      "{'messages': [{'x': 1}, {'x': 2}, {'x': 4}]}\n",
      "{'messages': [{'x': 1}, {'x': 2}, {'x': 4}, {'x': 5}]}\n"
     ]
    },
    {
     "data": {
      "text/plain": [
       "{'messages': [{'x': 1}, {'x': 2}, {'x': 4}, {'x': 5}, {'x': 10}]}"
      ]
     },
     "execution_count": 11,
     "metadata": {},
     "output_type": "execute_result"
    }
   ],
   "source": [
    "input_message = {\"messages\" : [{\n",
    "    \"x\" : 1\n",
    "}]}\n",
    "\n",
    "graph.invoke(input_message)"
   ]
  }
 ],
 "metadata": {
  "kernelspec": {
   "display_name": "Python 3 (ipykernel)",
   "language": "python",
   "name": "python3"
  },
  "language_info": {
   "codemirror_mode": {
    "name": "ipython",
    "version": 3
   },
   "file_extension": ".py",
   "mimetype": "text/x-python",
   "name": "python",
   "nbconvert_exporter": "python",
   "pygments_lexer": "ipython3",
   "version": "3.12.2"
  }
 },
 "nbformat": 4,
 "nbformat_minor": 5
}
