{
 "cells": [
  {
   "cell_type": "code",
   "execution_count": 1,
   "id": "7019aab3-3360-4486-8ca8-29d0e28e3e2b",
   "metadata": {},
   "outputs": [],
   "source": [
    "import operator\n",
    "from langgraph.graph import StateGraph,START,END\n",
    "from typing import Annotated,List,TypedDict\n",
    "from IPython.display import display,Image"
   ]
  },
  {
   "cell_type": "code",
   "execution_count": 2,
   "id": "d6fda82b-16ac-4ab5-b902-76f2f60633af",
   "metadata": {},
   "outputs": [],
   "source": [
    "class State(TypedDict):\n",
    "    messages : Annotated[List[str],operator.add]"
   ]
  },
  {
   "cell_type": "code",
   "execution_count": 3,
   "id": "000c1fc1-165d-45db-ba22-8bb25e6f033c",
   "metadata": {},
   "outputs": [],
   "source": [
    "builder = StateGraph(State)"
   ]
  },
  {
   "cell_type": "code",
   "execution_count": 4,
   "id": "b21ae860-4111-4ef6-aec6-d051386f956d",
   "metadata": {},
   "outputs": [],
   "source": [
    "class ReturnNodeValue:\n",
    "    def __init__(self,value:str):\n",
    "        self.value = value\n",
    "\n",
    "    def __call__(self,state:State)->dict:\n",
    "        return {\"messages\" : [self.value]}"
   ]
  },
  {
   "cell_type": "code",
   "execution_count": 5,
   "id": "890224f7-26b7-46ce-9aba-26b504807f56",
   "metadata": {},
   "outputs": [
    {
     "data": {
      "text/plain": [
       "<langgraph.graph.state.StateGraph at 0x21fae76ec60>"
      ]
     },
     "execution_count": 5,
     "metadata": {},
     "output_type": "execute_result"
    }
   ],
   "source": [
    "builder.add_node(\"a\",ReturnNodeValue(\"Hello\"))\n",
    "builder.add_node(\"b\",ReturnNodeValue(\"World\"))"
   ]
  },
  {
   "cell_type": "code",
   "execution_count": 6,
   "id": "b7538570-bf88-4a0a-a66b-d4cbbebb4c01",
   "metadata": {},
   "outputs": [
    {
     "data": {
      "text/plain": [
       "<langgraph.graph.state.StateGraph at 0x21fae76ec60>"
      ]
     },
     "execution_count": 6,
     "metadata": {},
     "output_type": "execute_result"
    }
   ],
   "source": [
    "builder.set_entry_point(\"a\")\n",
    "\n",
    "builder.add_edge(\"a\",\"b\")\n",
    "builder.add_edge(\"b\",END)"
   ]
  },
  {
   "cell_type": "code",
   "execution_count": 7,
   "id": "c0af1030-24f0-42ec-bd26-7c66067a20fb",
   "metadata": {},
   "outputs": [],
   "source": [
    "graph = builder.compile()"
   ]
  },
  {
   "cell_type": "code",
   "execution_count": 8,
   "id": "2d5f8800-c071-4334-b96e-79c9660fbbee",
   "metadata": {},
   "outputs": [
    {
     "data": {
      "image/jpeg": "[encoded data removed]",
      "text/plain": [
       "<IPython.core.display.Image object>"
      ]
     },
     "metadata": {},
     "output_type": "display_data"
    }
   ],
   "source": [
    "try:\n",
    "    display(Image(graph.get_graph().draw_mermaid_png()))\n",
    "except Exception:\n",
    "    pass"
   ]
  },
  {
   "cell_type": "code",
   "execution_count": 9,
   "id": "1508e5e2-ba4d-408d-8b10-2151014e7ce0",
   "metadata": {},
   "outputs": [],
   "source": [
    "input_state = {\"messages\" : []}\n",
    "result = graph.invoke(input_state)"
   ]
  },
  {
   "cell_type": "code",
   "execution_count": 10,
   "id": "be07f55a-5ccf-4539-a71b-e112d40414a7",
   "metadata": {},
   "outputs": [
    {
     "name": "stdout",
     "output_type": "stream",
     "text": [
      "{'messages': ['Hello', 'World']}\n"
     ]
    }
   ],
   "source": [
    "print(result)"
   ]
  }
 ],
 "metadata": {
  "kernelspec": {
   "display_name": "Python 3 (ipykernel)",
   "language": "python",
   "name": "python3"
  },
  "language_info": {
   "codemirror_mode": {
    "name": "ipython",
    "version": 3
   },
   "file_extension": ".py",
   "mimetype": "text/x-python",
   "name": "python",
   "nbconvert_exporter": "python",
   "pygments_lexer": "ipython3",
   "version": "3.12.2"
  }
 },
 "nbformat": 4,
 "nbformat_minor": 5
}
