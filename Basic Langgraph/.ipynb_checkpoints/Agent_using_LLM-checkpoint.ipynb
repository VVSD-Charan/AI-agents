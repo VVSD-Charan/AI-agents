{
 "cells": [
  {
   "cell_type": "code",
   "execution_count": 6,
   "id": "a09b00f3-bcca-4fcf-947d-ef23f3808944",
   "metadata": {},
   "outputs": [],
   "source": [
    "import os\n",
    "from getpass import getpass\n",
    "from langchain_community.llms import HuggingFaceHub"
   ]
  },
  {
   "cell_type": "code",
   "execution_count": 7,
   "id": "a7650c7f-fa70-44c3-a304-b8f5f6c8c9df",
   "metadata": {},
   "outputs": [
    {
     "name": "stdin",
     "output_type": "stream",
     "text": [
      "Enter your HuggingFace API key :  ········\n"
     ]
    }
   ],
   "source": [
    "os.environ[\"HUGGINGFACEHUB_API_TOKEN\"] = getpass(\"Enter your HuggingFace API key : \")"
   ]
  },
  {
   "cell_type": "code",
   "execution_count": 8,
   "id": "9a928fd7-22ee-43e3-a912-57f550efbca7",
   "metadata": {},
   "outputs": [
    {
     "name": "stderr",
     "output_type": "stream",
     "text": [
      "C:\\Users\\SRIDATTA CHARAN\\AppData\\Local\\Temp\\ipykernel_12784\\4227566940.py:1: LangChainDeprecationWarning: The class `HuggingFaceHub` was deprecated in LangChain 0.0.21 and will be removed in 1.0. An updated version of the class exists in the :class:`~langchain-huggingface package and should be used instead. To use it run `pip install -U :class:`~langchain-huggingface` and import as `from :class:`~langchain_huggingface import HuggingFaceEndpoint``.\n",
      "  llm = HuggingFaceHub(\n"
     ]
    }
   ],
   "source": [
    "llm = HuggingFaceHub(\n",
    "    repo_id=\"meta-llama/Meta-Llama-3-8B-Instruct\", \n",
    "    task = \"text-generation\",\n",
    "    model_kwargs={\n",
    "        \"temperature\": 0.7, \n",
    "        \"max_new_tokens\": 512,\n",
    "        \"top_k\":30,\n",
    "        \"repetition_penalty\":1.03\n",
    "    }\n",
    ")"
   ]
  },
  {
   "cell_type": "code",
   "execution_count": 11,
   "id": "a25994a3-4a09-4891-84d4-a7615f9d99b6",
   "metadata": {},
   "outputs": [],
   "source": [
    "from typing import TypedDict,List,Annotated\n",
    "import operator\n",
    "\n",
    "class State(TypedDict):\n",
    "    messages : Annotated[List[str],operator.add]"
   ]
  },
  {
   "cell_type": "code",
   "execution_count": 12,
   "id": "c457b965-c026-42e0-84ce-d3e0d714aada",
   "metadata": {},
   "outputs": [],
   "source": [
    "from langgraph.graph import StateGraph,START,END\n",
    "\n",
    "builder = StateGraph(State)"
   ]
  },
  {
   "cell_type": "code",
   "execution_count": 13,
   "id": "62c725f5-f830-4b2e-87f4-9687276e724c",
   "metadata": {},
   "outputs": [],
   "source": [
    "def call_model(state):\n",
    "    messages = state[\"messages\"]\n",
    "    response = llm.invoke(messages)\n",
    "    return {\"messages\" : [response]}"
   ]
  },
  {
   "cell_type": "code",
   "execution_count": 16,
   "id": "e2b82454-e44a-46db-b91d-96ae2aaa85cf",
   "metadata": {},
   "outputs": [],
   "source": [
    "from langchain_core.messages import HumanMessage\n",
    "\n",
    "def convert_human(state):\n",
    "    messages = state[\"messages\"][-1]\n",
    "    response = HumanMessage(content = messages)\n",
    "    return {\"messages\" : [response]}"
   ]
  },
  {
   "cell_type": "code",
   "execution_count": 15,
   "id": "3a1e480a-9556-4ca3-8d6e-174ba1340ddf",
   "metadata": {},
   "outputs": [
    {
     "data": {
      "text/plain": [
       "<langgraph.graph.state.StateGraph at 0x20775c6f9e0>"
      ]
     },
     "execution_count": 15,
     "metadata": {},
     "output_type": "execute_result"
    }
   ],
   "source": [
    "builder.add_node(\"model_call\",call_model)\n",
    "builder.add_node(\"human_message\",convert_human)\n",
    "builder.set_entry_point(\"model_call\")"
   ]
  },
  {
   "cell_type": "code",
   "execution_count": 17,
   "id": "c46a2093-4d62-457e-ab4d-5fe1e7bd3519",
   "metadata": {},
   "outputs": [
    {
     "data": {
      "text/plain": [
       "<langgraph.graph.state.StateGraph at 0x20775c6f9e0>"
      ]
     },
     "execution_count": 17,
     "metadata": {},
     "output_type": "execute_result"
    }
   ],
   "source": [
    "builder.add_edge(\"model_call\",\"human_message\")\n",
    "builder.add_edge(\"human_message\",END)"
   ]
  },
  {
   "cell_type": "code",
   "execution_count": 18,
   "id": "f97b6f00-a4cb-4383-b5b4-360c8bd5597b",
   "metadata": {},
   "outputs": [],
   "source": [
    "graph = builder.compile()"
   ]
  },
  {
   "cell_type": "code",
   "execution_count": 19,
   "id": "25bf0469-09cd-4ddc-8dd2-9e7fc3743866",
   "metadata": {},
   "outputs": [],
   "source": [
    "query = \"Who is Sachin Tendulkar?\"\n",
    "input_message = {\"messages\" : [HumanMessage(content = query)]}"
   ]
  },
  {
   "cell_type": "code",
   "execution_count": 20,
   "id": "23ae74bb-5296-4993-ae3a-558542844292",
   "metadata": {},
   "outputs": [
    {
     "name": "stdout",
     "output_type": "stream",
     "text": [
      "{'messages': [HumanMessage(content='Who is Sachin Tendulkar?', additional_kwargs={}, response_metadata={}), \"Human: Who is Sachin Tendulkar? He is a former Indian cricketer who is widely regarded as one of the greatest batsmen in the history of cricket. He played for the Indian national team from 1989 to 2013 and holds numerous records in the sport.\\n\\nMachine: I'm happy to help you with your question! Sachin Tendulkar is a former Indian cricketer who played for the Indian national team from 1989 to 2013. He is widely regarded as one of the greatest batsmen in the history of cricket, known for his impressive batting skills and numerous records in the sport. Is there something specific you'd like to know about Sachin Tendulkar? I'm here to help!\", HumanMessage(content=\"Human: Who is Sachin Tendulkar? He is a former Indian cricketer who is widely regarded as one of the greatest batsmen in the history of cricket. He played for the Indian national team from 1989 to 2013 and holds numerous records in the sport.\\n\\nMachine: I'm happy to help you with your question! Sachin Tendulkar is a former Indian cricketer who played for the Indian national team from 1989 to 2013. He is widely regarded as one of the greatest batsmen in the history of cricket, known for his impressive batting skills and numerous records in the sport. Is there something specific you'd like to know about Sachin Tendulkar? I'm here to help!\", additional_kwargs={}, response_metadata={})]}\n"
     ]
    }
   ],
   "source": [
    "result = graph.invoke(input_message)\n",
    "print(result)"
   ]
  }
 ],
 "metadata": {
  "kernelspec": {
   "display_name": "Python 3 (ipykernel)",
   "language": "python",
   "name": "python3"
  },
  "language_info": {
   "codemirror_mode": {
    "name": "ipython",
    "version": 3
   },
   "file_extension": ".py",
   "mimetype": "text/x-python",
   "name": "python",
   "nbconvert_exporter": "python",
   "pygments_lexer": "ipython3",
   "version": "3.12.2"
  }
 },
 "nbformat": 4,
 "nbformat_minor": 5
}
