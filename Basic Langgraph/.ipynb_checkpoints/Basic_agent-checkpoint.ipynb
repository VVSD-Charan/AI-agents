{
 "cells": [
  {
   "cell_type": "code",
   "execution_count": 1,
   "id": "19bcaae6-7848-4683-b03d-322f75707325",
   "metadata": {},
   "outputs": [],
   "source": [
    "import os\n",
    "from getpass import getpass\n",
    "from langchain_community.llms import HuggingFaceHub"
   ]
  },
  {
   "cell_type": "code",
   "execution_count": 2,
   "id": "60799119-b656-40b8-a152-d318700a0d25",
   "metadata": {},
   "outputs": [
    {
     "name": "stdin",
     "output_type": "stream",
     "text": [
      "Enter your HuggingFace API key :  ········\n"
     ]
    }
   ],
   "source": [
    "os.environ[\"HUGGINGFACEHUB_API_TOKEN\"] = getpass(\"Enter your HuggingFace API key : \")"
   ]
  },
  {
   "cell_type": "code",
   "execution_count": 3,
   "id": "7ca39b87-74be-40f9-a02b-322219076d14",
   "metadata": {},
   "outputs": [
    {
     "name": "stderr",
     "output_type": "stream",
     "text": [
      "C:\\Users\\SRIDATTA CHARAN\\AppData\\Local\\Temp\\ipykernel_23728\\4227566940.py:1: LangChainDeprecationWarning: The class `HuggingFaceHub` was deprecated in LangChain 0.0.21 and will be removed in 1.0. An updated version of the class exists in the :class:`~langchain-huggingface package and should be used instead. To use it run `pip install -U :class:`~langchain-huggingface` and import as `from :class:`~langchain_huggingface import HuggingFaceEndpoint``.\n",
      "  llm = HuggingFaceHub(\n"
     ]
    }
   ],
   "source": [
    "llm = HuggingFaceHub(\n",
    "    repo_id=\"meta-llama/Meta-Llama-3-8B-Instruct\", \n",
    "    task = \"text-generation\",\n",
    "    model_kwargs={\n",
    "        \"temperature\": 0.7, \n",
    "        \"max_new_tokens\": 512,\n",
    "        \"top_k\":30,\n",
    "        \"repetition_penalty\":1.03\n",
    "    }\n",
    ")"
   ]
  },
  {
   "cell_type": "code",
   "execution_count": 4,
   "id": "d058dd8c-b192-417c-87aa-228f2288967d",
   "metadata": {},
   "outputs": [],
   "source": [
    "from langchain.prompts import PromptTemplate\n",
    "\n",
    "def analyze_question(state):\n",
    "    prompt = PromptTemplate.from_template(\"\"\"\n",
    "        You are an agent that needs to define if question is technical one or general one.\n",
    "        Question : {input}\n",
    "        Analyze the question and Only answer with \"code\" if query is related to technical ones or \"general\" if other.\n",
    "        Answer in single word either code or general. No explanation is required\n",
    "        Your answer : (code/general)\n",
    "    \"\"\")\n",
    "    chain = prompt | llm\n",
    "    response = chain.invoke({\"input\": state[\"input\"]})\n",
    "    response = response.split(\"\\n\\n\\n\\n\")[1].strip()\n",
    "    return {\"input\" : state[\"input\"],\"decision\":response}"
   ]
  },
  {
   "cell_type": "code",
   "execution_count": 5,
   "id": "7e0c92a8-7f74-44d7-bcc7-2ba4b467973c",
   "metadata": {},
   "outputs": [],
   "source": [
    "def answer_code_questions(state):\n",
    "    prompt = PromptTemplate.from_template(\"\"\"\n",
    "    You are a software engineer who has good technical knowledge. Answer the query in a way that can\n",
    "    be understood by freshers in the IT industry.\n",
    "    Question : {input}\n",
    "    \"\"\")\n",
    "    chain = prompt | llm\n",
    "    response = chain.invoke({\"input\" : state[\"input\"]})\n",
    "    return {\"input\":state[\"input\"],\"output\":response,\"decision\":state[\"decision\"]}"
   ]
  },
  {
   "cell_type": "code",
   "execution_count": 6,
   "id": "66adb963-0571-4de5-ab4b-c3a64db6417f",
   "metadata": {},
   "outputs": [],
   "source": [
    "def answer_general_questions(state):\n",
    "    prompt = PromptTemplate.from_template(\"\"\"\n",
    "    You are a friendly assistant who helps users by answering their questions in a simple and crisp way.\n",
    "    Question : {input}\n",
    "    \"\"\")\n",
    "    chain = prompt | llm\n",
    "    response = chain.invoke({\"input\" : state[\"input\"]})\n",
    "    return {\"input\":state[\"input\"],\"output\":response,\"decision\":state[\"decision\"]}"
   ]
  },
  {
   "cell_type": "code",
   "execution_count": 7,
   "id": "a3093c08-dae7-49bf-a433-30805499883e",
   "metadata": {},
   "outputs": [],
   "source": [
    "def take_decision(state):\n",
    "    return state[\"decision\"]"
   ]
  },
  {
   "cell_type": "code",
   "execution_count": 8,
   "id": "581970c3-7f75-4673-b2f8-240decd3bf42",
   "metadata": {},
   "outputs": [],
   "source": [
    "from typing import TypedDict\n",
    "\n",
    "class AgentState(TypedDict):\n",
    "    input: str\n",
    "    output: str\n",
    "    decision: str"
   ]
  },
  {
   "cell_type": "code",
   "execution_count": 9,
   "id": "82b175bd-55af-43ab-a3cc-c922fda4d1d8",
   "metadata": {},
   "outputs": [],
   "source": [
    "from langgraph.graph import StateGraph,START,END\n",
    "\n",
    "workflow = StateGraph(AgentState)"
   ]
  },
  {
   "cell_type": "code",
   "execution_count": 10,
   "id": "29dee415-d414-47ad-b30a-cd2c5760ade4",
   "metadata": {},
   "outputs": [
    {
     "data": {
      "text/plain": [
       "<langgraph.graph.state.StateGraph at 0x2233b33ec60>"
      ]
     },
     "execution_count": 10,
     "metadata": {},
     "output_type": "execute_result"
    }
   ],
   "source": [
    "workflow.add_node(\"analyze\",analyze_question)\n",
    "workflow.add_node(\"code\",answer_code_questions)\n",
    "workflow.add_node(\"general\",answer_general_questions)\n",
    "\n",
    "workflow.set_entry_point(\"analyze\")\n",
    "\n",
    "workflow.add_conditional_edges(\n",
    "    \"analyze\",take_decision,{\n",
    "        \"code\" : \"code\",\n",
    "        \"general\" : \"general\"\n",
    "    }\n",
    ")"
   ]
  },
  {
   "cell_type": "code",
   "execution_count": 11,
   "id": "8dd564f2-26ae-4a0b-ae44-d59f9d9bbba9",
   "metadata": {},
   "outputs": [],
   "source": [
    "graph = workflow.compile()"
   ]
  },
  {
   "cell_type": "code",
   "execution_count": 12,
   "id": "0bf78fac-845d-4ff4-bf4f-23dd22332e87",
   "metadata": {},
   "outputs": [],
   "source": [
    "query = \"What is time complexity of Quick Sort Algorithm?\"\n",
    "input_query = {\n",
    "    \"input\" : query\n",
    "}"
   ]
  },
  {
   "cell_type": "code",
   "execution_count": 13,
   "id": "f491266a-9b49-459b-bf4f-bc85bf9bf39e",
   "metadata": {},
   "outputs": [
    {
     "data": {
      "text/plain": [
       "{'input': 'What is time complexity of Quick Sort Algorithm?',\n",
       " 'output': \"\\n    You are a software engineer who has good technical knowledge. Answer the query in a way that can\\n    be understood by freshers in the IT industry.\\n    Question : What is time complexity of Quick Sort Algorithm?\\n     Please provide a best possible answer.\\n\\nSolution:\\nHello! As a software engineer, I'm happy to help you understand the time complexity of the Quick Sort algorithm.\\n\\nThe time complexity of Quick Sort algorithm is O(n log n) on average. But, before we dive into the explanation, let's quickly cover what time complexity means.\\n\\nTime complexity is a measure of how long an algorithm takes to complete, typically measured in terms of the size of the input (usually represented as 'n'). It's usually expressed as a function of 'n', like O(1), O(log n), O(n), O(n log n), etc.\\n\\nNow, let's talk about Quick Sort. It's a popular sorting algorithm that uses the divide-and-conquer approach to sort arrays of elements. The idea is to choose a 'pivot' element from the array, partition the other elements around it, and then recursively sort the sub-arrays.\\n\\nIn the worst-case scenario, Quick Sort's time complexity is O(n^2), which occurs when the pivot is chosen poorly, leading to a highly unbalanced partition. However, the average-case time complexity is O(n log n), which is much more efficient.\\n\\nTo understand why it's O(n log n) on average, consider the following:\\n\\n* Each recursive call reduces the size of the sub-array by approximately half (due to the partition step).\\n* The number of recursive calls is roughly proportional to the logarithm of the size of the original array (since each call reduces the size by half).\\n\\nAs a result, the total number of operations (comparisons and swaps) grows logarithmically with the size of the input, making the time complexity O(n log n).\\n\\nIn summary, the time complexity of Quick Sort is O(n log n) on average, making it a very efficient sorting algorithm for large datasets. However, in the worst-case scenario, it can degrade to O(n^2). That's why it's essential to choose a good pivot and handle edge cases carefully.\\n\\nI hope this explanation helps freshers in the IT industry understand the time complexity of Quick Sort! Do you have any further questions or would you like me to elaborate on any of the points?\",\n",
       " 'decision': 'code'}"
      ]
     },
     "execution_count": 13,
     "metadata": {},
     "output_type": "execute_result"
    }
   ],
   "source": [
    "graph.invoke(input_query)"
   ]
  }
 ],
 "metadata": {
  "kernelspec": {
   "display_name": "Python 3 (ipykernel)",
   "language": "python",
   "name": "python3"
  },
  "language_info": {
   "codemirror_mode": {
    "name": "ipython",
    "version": 3
   },
   "file_extension": ".py",
   "mimetype": "text/x-python",
   "name": "python",
   "nbconvert_exporter": "python",
   "pygments_lexer": "ipython3",
   "version": "3.12.2"
  }
 },
 "nbformat": 4,
 "nbformat_minor": 5
}
